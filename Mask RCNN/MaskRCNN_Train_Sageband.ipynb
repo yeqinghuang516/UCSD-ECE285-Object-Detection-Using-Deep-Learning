{
  "nbformat": 4,
  "nbformat_minor": 0,
  "metadata": {
    "colab": {
      "name": "MaskRCNN_Train_Sageband.ipynb",
      "version": "0.3.2",
      "provenance": [],
      "collapsed_sections": [],
      "toc_visible": true,
      "include_colab_link": true
    },
    "kernelspec": {
      "name": "python3",
      "display_name": "Python 3"
    },
    "accelerator": "GPU"
  },
  "cells": [
    {
      "cell_type": "markdown",
      "metadata": {
        "id": "view-in-github",
        "colab_type": "text"
      },
      "source": [
        "<a href=\"https://colab.research.google.com/github/yeqinghuang516/UCSD-ECE285-Object-Detection-Using-Deep-Learning/blob/master/Mask%20RCNN/MaskRCNN_Train_Sageband.ipynb\" target=\"_parent\"><img src=\"https://colab.research.google.com/assets/colab-badge.svg\" alt=\"Open In Colab\"/></a>"
      ]
    },
    {
      "cell_type": "markdown",
      "metadata": {
        "id": "beLdF4NHsZiv",
        "colab_type": "text"
      },
      "source": [
        "## This notebook is suggested to run on Colab"
      ]
    },
    {
      "cell_type": "markdown",
      "metadata": {
        "id": "M1yik5Kgg8Cz",
        "colab_type": "text"
      },
      "source": [
        "## Download Github Repo"
      ]
    },
    {
      "cell_type": "code",
      "metadata": {
        "id": "lJ4xhldIvZ_d",
        "colab_type": "code",
        "colab": {}
      },
      "source": [
        "%%shell\n",
        "# Download TorchVision repo to use some files from references/detection\n",
        "git clone https://github.com/pytorch/vision.git\n",
        "cd vision\n",
        "git checkout v0.3.0\n",
        "\n",
        "cp references/detection/utils.py ../\n",
        "cp references/detection/transforms.py ../\n",
        "cp references/detection/coco_eval.py ../\n",
        "cp references/detection/engine.py ../\n",
        "cp references/detection/coco_utils.py ../\n",
        "\n",
        "# Download files from our own project repo\n",
        "cd ..\n",
        "git clone https://github.com/yeqinghuang516/UCSD-ECE285-Object-Detection-Using-Deep-Learning.git"
      ],
      "execution_count": 0,
      "outputs": []
    },
    {
      "cell_type": "code",
      "metadata": {
        "id": "Sy6uGWTHj1_a",
        "colab_type": "code",
        "colab": {}
      },
      "source": [
        "import os\n",
        "import sys\n",
        "sys.path.append('/content/UCSD-ECE285-Object-Detection-Using-Deep-Learning/Mask RCNN/')\n",
        "sys.path.append('/content/')\n",
        "import torch\n",
        "from PIL import Image\n",
        "import torchvision as tv\n",
        "from engine import train_one_epoch, evaluate\n",
        "import utils\n",
        "from dataset import *\n",
        "from model import *"
      ],
      "execution_count": 0,
      "outputs": []
    },
    {
      "cell_type": "markdown",
      "metadata": {
        "id": "uDdTACOYoT3H",
        "colab_type": "text"
      },
      "source": [
        "## Define some parameters for training"
      ]
    },
    {
      "cell_type": "code",
      "metadata": {
        "id": "ISCa3LwqkJBt",
        "colab_type": "code",
        "colab": {}
      },
      "source": [
        "num_epochs = 200\n",
        "evaluation_interval = 2\n",
        "class_names = ['aeroplane', 'bicycle', 'bird', 'boat', 'bottle', 'bus', 'car', 'cat', 'chair', 'cow', 'diningtable', 'dog', 'horse', 'motorbike', 'person', 'pottedplant', 'sheep', 'sofa', 'train', 'tvmonitor']\n",
        "device = torch.device('cuda') if torch.cuda.is_available() else torch.device('cpu')"
      ],
      "execution_count": 0,
      "outputs": []
    },
    {
      "cell_type": "markdown",
      "metadata": {
        "id": "9ostzdAsoXaf",
        "colab_type": "text"
      },
      "source": [
        "## Download and initiate dataset & dataloader"
      ]
    },
    {
      "cell_type": "code",
      "metadata": {
        "id": "mtY7REgoyDy-",
        "colab_type": "code",
        "outputId": "1dd5b652-dcb5-4808-8056-0349c2101ad8",
        "colab": {
          "base_uri": "https://localhost:8080/",
          "height": 34
        }
      },
      "source": [
        "os.makedirs('data', exist_ok = True)\n",
        "root = 'data'\n",
        "dataset = VOCDataset(root, image_set = 'train', transforms = get_transform(train = True))\n",
        "testset = VOCDataset(root, image_set = 'val', transforms = get_transform(train = False))"
      ],
      "execution_count": 0,
      "outputs": [
        {
          "output_type": "stream",
          "text": [
            "1999642624it [02:50, 13235573.42it/s]                                "
          ],
          "name": "stderr"
        },
        {
          "output_type": "stream",
          "text": [
            "download =  False\n"
          ],
          "name": "stdout"
        }
      ]
    },
    {
      "cell_type": "code",
      "metadata": {
        "id": "XlFQGpDtj2id",
        "colab_type": "code",
        "colab": {}
      },
      "source": [
        "train_loader = torch.utils.data.DataLoader(\n",
        "    dataset, batch_size= 8, shuffle=True, num_workers=8,\n",
        "    collate_fn=utils.collate_fn)\n",
        "\n",
        "test_loader = torch.utils.data.DataLoader(\n",
        "    testset, batch_size= 2, shuffle=False, num_workers=8,\n",
        "    collate_fn=utils.collate_fn)"
      ],
      "execution_count": 0,
      "outputs": []
    },
    {
      "cell_type": "markdown",
      "metadata": {
        "id": "OvLdKRkwr8Cv",
        "colab_type": "text"
      },
      "source": [
        "## Initiate model and load previous checkpoint (if available)"
      ]
    },
    {
      "cell_type": "code",
      "metadata": {
        "id": "OxWbFVwuy6OB",
        "colab_type": "code",
        "colab": {}
      },
      "source": [
        "os.makedirs(\"checkpoints\", exist_ok=True)\n",
        "\n",
        "# our dataset has 21 classes, 20 object class + 1 background\n",
        "num_classes = 21\n",
        "\n",
        "# get the model using our helper function\n",
        "model = MaskRCNN(num_classes)\n",
        "# move model to the right device\n",
        "model.to(device)\n",
        "\n",
        "# construct an optimizer\n",
        "params = [p for p in model.parameters() if p.requires_grad]\n",
        "optimizer = torch.optim.SGD(params, lr=1e-3,momentum=0.9, weight_decay=0.0005)\n",
        "\n",
        "# and a learning rate scheduler which decreases the learning rate by 0.5 every 10 epochs\n",
        "lr_scheduler = torch.optim.lr_scheduler.StepLR(optimizer, step_size=10, gamma=0.5)\n",
        "cur_epoch = 0\n",
        "\n",
        "# load previous checkpoint, will not load if 'pretrained_weight' is not valid\n",
        "pretrained_weight = '/content/gdrive/My Drive/MaskRCNN/maskrcnn_99.pth'\n",
        "\n",
        "if os.path.isfile(pretrained_weight):  \n",
        "  checkpoint = torch.load(pretrained_weight)\n",
        "  model.load_state_dict(checkpoint['net'])\n",
        "  optimizer.load_state_dict(checkpoint['optimizer'])\n",
        "  lr_scheduler.load_state_dict(checkpoint['scheduler'])\n",
        "  cur_epoch = checkpoint['epoch'] + 1\n",
        "  print('load state dict')"
      ],
      "execution_count": 0,
      "outputs": []
    },
    {
      "cell_type": "markdown",
      "metadata": {
        "id": "jSHTTeQPsPoI",
        "colab_type": "text"
      },
      "source": [
        "## Start Training"
      ]
    },
    {
      "cell_type": "code",
      "metadata": {
        "id": "VsXv9S3iy6QC",
        "colab_type": "code",
        "colab": {}
      },
      "source": [
        "for epoch in range(cur_epoch, num_epochs):\n",
        "    # train for one epoch, printing every 10 iterations\n",
        "    train_one_epoch(model, optimizer, train_loader, device, epoch, print_freq=10)\n",
        "    # update the learning rate\n",
        "    lr_scheduler.step()\n",
        "    # evaluate on the test dataset\n",
        "    if epoch % evaluation_interval == 0:\n",
        "      evaluate(model, test_loader, device=device)\n",
        "    state_dict = {'net': model.state_dict(), 'optimizer': optimizer.state_dict(), 'scheduler': lr_scheduler.state_dict(), 'epoch': epoch}\n",
        "    torch.save(state_dict, f\"checkpoints/maskrcnn_%d.pth\" % epoch)"
      ],
      "execution_count": 0,
      "outputs": []
    }
  ]
}